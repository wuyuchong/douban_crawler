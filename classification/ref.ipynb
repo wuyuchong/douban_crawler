{
 "cells": [
  {
   "cell_type": "markdown",
   "id": "651b4cdd",
   "metadata": {
    "id": "IZ6SNYq_tVVC",
    "tags": []
   },
   "source": [
    "# IMDB 文本分类和模型比较\n",
    "\n",
    "**摘要：**我们使用 IMDB 数据集进行文本分类。在文本预处理阶段，我们尝试使用词编码和词向量的方式，在训练阶段，我们构建了 DNN、LSTM、BERT 等多个深度学习模型进行训练，并进行了模型比较，最高达到了 99% 的准确率。最后，为了进一步实现在超大文本集上进行训练，我们使用基于 Spark 的分布式算法在集群服务器上进行训练测试。\n",
    "\n",
    "\n",
    "\n",
    "| 模型         | 计算配置    | 用时   | 准确率 | 可拓展性 |\n",
    "| ------------ | ----------- | ------ | ------ | -------- |\n",
    "| tokenize + DNN   |阿里云服务器 Xeon 8 核 CPU 32G 内存| 10 分钟 | 60% | 低-单机 |\n",
    "| Word2Vec + LSTM  |阿里云服务器 Xeon 8 核 CPU 32G 内存| 2  小时 | 80% | 低-单机 |\n",
    "| bert - 小型      |阿里云服务器 Xeon 8 核 CPU 32G 内存| 1  小时 | 86% | 低-单机 |\n",
    "| bert - AL        |阿里云服务器 Xeon 8 核 CPU 32G 内存| 1.5小时 | 88% | 低-单机 |\n",
    "| bert - 标准      |阿里云服务器 Xeon 8 核 CPU 32G 内存| 3  小时 | 90% | 低-单机 |\n",
    "| spark - logit    |中央财经大学大数据高性能分布式集群 | 10 分钟 | 83% | 高-集群 |\n",
    "| spark - 决策树   |中央财经大学大数据高性能分布式集群 | 40 分钟 | 85% | 高-集群 |\n",
    "|spark - 梯度助推树|中央财经大学大数据高性能分布式集群 | 20 分钟 | 87% | 高-集群 |\n",
    "| spark - 随机森林 |中央财经大学大数据高性能分布式集群 | 1.5小时 | 89% | 高-集群 |\n",
    "\n",
    "> 分布式模型在该小型数据集上没有优势，进行此项的意义在于对大型文本数据集可拓展性的技术储备，仅有在文本量级超过单机可承载上限时，分布式计算才具备意义\n",
    "\n",
    "> 注意：请勿在低配置计算机上运行该笔记本"
   ]
  },
  {
   "cell_type": "markdown",
   "id": "15a52b4e",
   "metadata": {
    "id": "SCjmX4zTCkRK"
   },
   "source": [
    "## 环境安装及设置\n",
    "\n",
    "请预先安装以下模块：\n",
    "\n",
    "- tensorflow (2.0以上版本）\n",
    "- tensorflow-text（用于文字预处理）\n",
    "- tf-models-official"
   ]
  },
  {
   "cell_type": "code",
   "execution_count": 32,
   "id": "5f809d04",
   "metadata": {
    "collapsed": false,
    "id": "_XgTpm9ZxoN9",
    "jupyter": {
     "outputs_hidden": false
    },
    "tags": []
   },
   "outputs": [],
   "source": [
    "import os\n",
    "import pydot\n",
    "import shutil\n",
    "import itertools\n",
    "import jieba\n",
    "import numpy as np\n",
    "import pandas as pd\n",
    "import tensorflow as tf\n",
    "import tensorflow_hub as hub\n",
    "import tensorflow_text as text\n",
    "import matplotlib.pyplot as plt\n",
    "from official.nlp import optimization\n",
    "from sklearn.metrics import confusion_matrix\n",
    "from sklearn.preprocessing import LabelEncoder\n",
    "from sklearn.model_selection import train_test_split\n",
    "\n",
    "tf.get_logger().setLevel('ERROR')"
   ]
  },
  {
   "cell_type": "markdown",
   "id": "251c8f54",
   "metadata": {},
   "source": [
    "## 数据处理\n",
    "\n",
    "### 标签处理\n",
    "\n",
    "我们将分类列由类别名称转为数字"
   ]
  },
  {
   "cell_type": "code",
   "execution_count": 36,
   "id": "53d7e7aa",
   "metadata": {
    "collapsed": false,
    "id": "6IwI_2bcIeX8",
    "jupyter": {
     "outputs_hidden": false
    },
    "tags": []
   },
   "outputs": [
    {
     "name": "stderr",
     "output_type": "stream",
     "text": [
      "Building prefix dict from the default dictionary ...\n",
      "Loading model from cache /tmp/jieba.cache\n",
      "Dumping model to file cache /tmp/jieba.cache\n",
      "Dump cache file failed.\n",
      "Traceback (most recent call last):\n",
      "  File \"/home/competition/anaconda3/envs/r_env/lib/python3.9/site-packages/jieba/__init__.py\", line 154, in initialize\n",
      "    _replace_file(fpath, cache_file)\n",
      "PermissionError: [Errno 1] Operation not permitted: '/tmp/tmpx_pp5zzu' -> '/tmp/jieba.cache'\n",
      "Loading model cost 0.726 seconds.\n",
      "Prefix dict has been built successfully.\n"
     ]
    },
    {
     "data": {
      "text/plain": [
       "array(['bad', 'good'], dtype=object)"
      ]
     },
     "execution_count": 36,
     "metadata": {},
     "output_type": "execute_result"
    }
   ],
   "source": [
    "# ------------------> 加载数据\n",
    "dat = pd.read_csv('./text/text.csv')\n",
    "dat = dat.query('rating != \"medium\"')\n",
    "\n",
    "import jieba\n",
    "dat['text'] = dat.text.apply(lambda x: \" \".join(jieba.cut(x)))\n",
    "\n",
    "# ------------------> 标签处理\n",
    "encoder = LabelEncoder()\n",
    "encoder.fit(dat['rating'])\n",
    "y = encoder.transform(dat['rating'])\n",
    "text_labels = encoder.classes_\n",
    "text_labels"
   ]
  },
  {
   "cell_type": "markdown",
   "id": "5ae23cb9",
   "metadata": {},
   "source": [
    "### 数据集划分\n",
    "\n",
    "随机划分 20% 的测试集，再从训练集中划分 20% 的验证集"
   ]
  },
  {
   "cell_type": "code",
   "execution_count": 37,
   "id": "25192750",
   "metadata": {
    "collapsed": false,
    "jupyter": {
     "outputs_hidden": false
    },
    "tags": []
   },
   "outputs": [],
   "source": [
    "X_train, X_test, y_train, y_test = train_test_split(\n",
    "    dat['text'], y, test_size=0.2, random_state=1)\n",
    "X_train, X_val, y_train, y_val = train_test_split(\n",
    "    X_train, y_train, test_size=0.2, random_state=1)"
   ]
  },
  {
   "cell_type": "markdown",
   "id": "ff52f26a",
   "metadata": {
    "tags": []
   },
   "source": [
    "### 数据集格式转换\n",
    "\n",
    "我们将数据集转换为 `tf.data.Dataset` 的格式，使用自动的缓冲区大小，使用 32 的 `batch size`\n",
    "\n",
    "batch size 的大小与模型的收敛速度和随机梯度噪音有关。当 batch size 过小时，在一定的迭代次数下，模型来不及收敛。当 batch size 过大时，一方面容易出现内存紧缺，另一方面模型的泛化能力会变差。"
   ]
  },
  {
   "cell_type": "code",
   "execution_count": 38,
   "id": "bbea5569",
   "metadata": {
    "collapsed": false,
    "jupyter": {
     "outputs_hidden": false
    }
   },
   "outputs": [],
   "source": [
    "AUTOTUNE = tf.data.AUTOTUNE\n",
    "batch_size = 32\n",
    "\n",
    "raw_train_ds = tf.data.Dataset.from_tensor_slices((X_train.values, y_train))\n",
    "raw_val_ds = tf.data.Dataset.from_tensor_slices((X_val.values, y_val))\n",
    "raw_test_ds = tf.data.Dataset.from_tensor_slices((X_test.values, y_test))\n",
    "\n",
    "train_ds = raw_train_ds.cache().prefetch(buffer_size=AUTOTUNE).batch(batch_size)\n",
    "val_ds = raw_val_ds.cache().prefetch(buffer_size=AUTOTUNE).batch(batch_size)\n",
    "test_ds = raw_test_ds.cache().prefetch(buffer_size=AUTOTUNE).batch(batch_size)"
   ]
  },
  {
   "cell_type": "markdown",
   "id": "8a428030",
   "metadata": {
    "id": "HGm10A5HRGXp"
   },
   "source": [
    "我们对数据集进行预览"
   ]
  },
  {
   "cell_type": "code",
   "execution_count": 39,
   "id": "57dfe38d",
   "metadata": {
    "collapsed": false,
    "id": "JuxDkcvVIoev",
    "jupyter": {
     "outputs_hidden": false
    },
    "tags": []
   },
   "outputs": [
    {
     "name": "stdout",
     "output_type": "stream",
     "text": [
      "Review: b'\\xe5\\x90\\x8e\\xe6\\x82\\x94 \\xe7\\x9c\\x8b \\xe4\\xba\\x86 \\xe5\\x89\\xa7\\xe9\\x80\\x8f \\n'\n",
      "Label : 1 (good)\n",
      "Review: b'\\xe7\\xac\\xac\\xe4\\xb8\\x83 \\xe6\\x9c\\xac   \\xe8\\xae\\xa9 \\xe4\\xba\\xba \\xe6\\x91\\x87\\xe5\\xa4\\xb4 \\xe7\\x9a\\x84 \\xe7\\xbb\\x93\\xe5\\xb1\\x80 \\n'\n",
      "Label : 1 (good)\n"
     ]
    },
    {
     "name": "stderr",
     "output_type": "stream",
     "text": [
      "2022-06-21 18:36:30.621722: W tensorflow/core/kernels/data/cache_dataset_ops.cc:768] The calling iterator did not fully read the dataset being cached. In order to avoid unexpected truncation of the dataset, the partially cached contents of the dataset  will be discarded. This can happen if you have an input pipeline similar to `dataset.cache().take(k).repeat()`. You should use `dataset.take(k).cache().repeat()` instead.\n"
     ]
    }
   ],
   "source": [
    "for text_batch, label_batch in train_ds.take(1):\n",
    "  for i in range(2):\n",
    "    print(f'Review: {text_batch.numpy()[i]}')\n",
    "    label = label_batch.numpy()[i]\n",
    "    print(f'Label : {label} ({text_labels[label]})')"
   ]
  },
  {
   "cell_type": "markdown",
   "id": "295e1372",
   "metadata": {},
   "source": [
    "# Tokenize + DNN"
   ]
  },
  {
   "cell_type": "markdown",
   "id": "579e9402",
   "metadata": {},
   "source": [
    "## 文本预处理"
   ]
  },
  {
   "cell_type": "code",
   "execution_count": 40,
   "id": "968c8559",
   "metadata": {
    "collapsed": false,
    "jupyter": {
     "outputs_hidden": false
    }
   },
   "outputs": [
    {
     "name": "stdout",
     "output_type": "stream",
     "text": [
      "x_train shape: (406, 1000)\n",
      "x_test shape: (127, 1000)\n",
      "y_train shape: (406,)\n",
      "y_test shape: (127,)\n"
     ]
    }
   ],
   "source": [
    "max_words = 1000\n",
    "tokenize = tf.keras.preprocessing.text.Tokenizer(num_words=max_words, \n",
    "                                              char_level=False)\n",
    "tokenize.fit_on_texts(X_train) # fit tokenizer to our training text data\n",
    "x_train_token = tokenize.texts_to_matrix(X_train)\n",
    "x_test_token = tokenize.texts_to_matrix(X_test)\n",
    "y_train_token = y_train\n",
    "y_test_token = y_test\n",
    "print('x_train shape:', x_train_token.shape)\n",
    "print('x_test shape:', x_test_token.shape)\n",
    "print('y_train shape:', y_train_token.shape)\n",
    "print('y_test shape:', y_test_token.shape)"
   ]
  },
  {
   "cell_type": "markdown",
   "id": "200d4e03",
   "metadata": {},
   "source": [
    "## 模型结构"
   ]
  },
  {
   "cell_type": "markdown",
   "id": "31532522",
   "metadata": {},
   "source": [
    "经过多次调参，我们发现增大全连接层输出的维度能有效提升准确率。\n",
    "\n",
    "为了减轻训练过程中的过拟合现象，我们使用 dropout 方法来增强神经元的协同适应能力。我们在输入层和中间层分别加入 50% dropout ，即每个神经元有 50% 的概率被随机剔除。由于输出层是我们所需的结果，不使用 dropout 方法。"
   ]
  },
  {
   "cell_type": "code",
   "execution_count": 41,
   "id": "265eb4e3",
   "metadata": {
    "collapsed": false,
    "jupyter": {
     "outputs_hidden": false
    }
   },
   "outputs": [
    {
     "name": "stdout",
     "output_type": "stream",
     "text": [
      "Model: \"sequential_1\"\n",
      "_________________________________________________________________\n",
      " Layer (type)                Output Shape              Param #   \n",
      "=================================================================\n",
      " dense_3 (Dense)             (None, 512)               512512    \n",
      "                                                                 \n",
      " activation_3 (Activation)   (None, 512)               0         \n",
      "                                                                 \n",
      " dropout_2 (Dropout)         (None, 512)               0         \n",
      "                                                                 \n",
      " dense_4 (Dense)             (None, 512)               262656    \n",
      "                                                                 \n",
      " activation_4 (Activation)   (None, 512)               0         \n",
      "                                                                 \n",
      " dropout_3 (Dropout)         (None, 512)               0         \n",
      "                                                                 \n",
      " dense_5 (Dense)             (None, 1)                 513       \n",
      "                                                                 \n",
      " activation_5 (Activation)   (None, 1)                 0         \n",
      "                                                                 \n",
      "=================================================================\n",
      "Total params: 775,681\n",
      "Trainable params: 775,681\n",
      "Non-trainable params: 0\n",
      "_________________________________________________________________\n"
     ]
    }
   ],
   "source": [
    "batch_size = 32\n",
    "epochs = 100 \n",
    "drop_ratio = 0.5\n",
    "\n",
    "\n",
    "model = tf.keras.models.Sequential()\n",
    "model.add(tf.keras.layers.Dense(512, input_shape=(max_words,)))\n",
    "model.add(tf.keras.layers.Activation('relu'))\n",
    "model.add(tf.keras.layers.Dropout(drop_ratio))\n",
    "model.add(tf.keras.layers.Dense(512))\n",
    "model.add(tf.keras.layers.Activation('relu'))\n",
    "model.add(tf.keras.layers.Dropout(drop_ratio))\n",
    "model.add(tf.keras.layers.Dense(1))\n",
    "model.add(tf.keras.layers.Activation('relu'))\n",
    "\n",
    "\n",
    "model.compile(loss='binary_crossentropy',\n",
    "              optimizer='adam',\n",
    "              metrics=['accuracy'])\n",
    "\n",
    "model.summary()"
   ]
  },
  {
   "cell_type": "markdown",
   "id": "9c7ec713",
   "metadata": {},
   "source": [
    "## 训练模型\n",
    "\n",
    "正常情况下，随着训练迭代次数的增加，损失函数逐渐减小，对训练集的拟合越来越趋向于精细。然而过度精细的拟合容易导致模型的泛化能力变差，即当模型用于之前未曾训练过的数据时表现很差。为了观测这种情况，我们需要划分一部分数据与用于训练的数据隔开，这便是我们划分验证集的原因之一。\n",
    "\n",
    "为了防止模型过拟合，我们设定在验证集准确率连续三次迭代不再上升时提前终止训练。"
   ]
  },
  {
   "cell_type": "code",
   "execution_count": 42,
   "id": "9b589304",
   "metadata": {
    "collapsed": false,
    "jupyter": {
     "outputs_hidden": false
    }
   },
   "outputs": [
    {
     "name": "stdout",
     "output_type": "stream",
     "text": [
      "Epoch 1/100\n",
      "12/12 [==============================] - 1s 18ms/step - loss: 2.1845 - accuracy: 0.6630 - val_loss: 2.0134 - val_accuracy: 0.7805\n",
      "Epoch 2/100\n",
      "12/12 [==============================] - 0s 6ms/step - loss: 2.2599 - accuracy: 0.8137 - val_loss: 2.0658 - val_accuracy: 0.7805\n",
      "Epoch 3/100\n",
      "12/12 [==============================] - 0s 6ms/step - loss: 2.2038 - accuracy: 0.8137 - val_loss: 2.0038 - val_accuracy: 0.7805\n",
      "Epoch 4/100\n",
      "12/12 [==============================] - 0s 6ms/step - loss: 2.2032 - accuracy: 0.8164 - val_loss: 1.7261 - val_accuracy: 0.7805\n",
      "Epoch 5/100\n",
      "12/12 [==============================] - 0s 6ms/step - loss: 2.1172 - accuracy: 0.8164 - val_loss: 1.6815 - val_accuracy: 0.7805\n",
      "Epoch 6/100\n",
      "12/12 [==============================] - 0s 6ms/step - loss: 1.8738 - accuracy: 0.8274 - val_loss: 1.6742 - val_accuracy: 0.7805\n",
      "Epoch 7/100\n",
      "12/12 [==============================] - 0s 6ms/step - loss: 1.6479 - accuracy: 0.8411 - val_loss: 1.6867 - val_accuracy: 0.7805\n",
      "Epoch 8/100\n",
      "12/12 [==============================] - 0s 8ms/step - loss: 1.4982 - accuracy: 0.8466 - val_loss: 1.6929 - val_accuracy: 0.7805\n",
      "Epoch 9/100\n",
      "12/12 [==============================] - 0s 6ms/step - loss: 1.2589 - accuracy: 0.8603 - val_loss: 0.9163 - val_accuracy: 0.8049\n",
      "Epoch 10/100\n",
      "12/12 [==============================] - 0s 6ms/step - loss: 0.8972 - accuracy: 0.8877 - val_loss: 0.7770 - val_accuracy: 0.7805\n",
      "Epoch 11/100\n",
      "12/12 [==============================] - 0s 6ms/step - loss: 0.8285 - accuracy: 0.9014 - val_loss: 0.7637 - val_accuracy: 0.7317\n",
      "Epoch 12/100\n",
      "12/12 [==============================] - 0s 6ms/step - loss: 0.6946 - accuracy: 0.9260 - val_loss: 0.7971 - val_accuracy: 0.7561\n",
      "Epoch 13/100\n",
      "12/12 [==============================] - 0s 6ms/step - loss: 0.6697 - accuracy: 0.9260 - val_loss: 1.3311 - val_accuracy: 0.7805\n",
      "Epoch 14/100\n",
      "12/12 [==============================] - 0s 6ms/step - loss: 0.5959 - accuracy: 0.9370 - val_loss: 1.2999 - val_accuracy: 0.7805\n",
      "Epoch 15/100\n",
      "12/12 [==============================] - 0s 6ms/step - loss: 0.5853 - accuracy: 0.9452 - val_loss: 1.2884 - val_accuracy: 0.7805\n",
      "Epoch 16/100\n",
      "12/12 [==============================] - 0s 6ms/step - loss: 0.5431 - accuracy: 0.9507 - val_loss: 1.2842 - val_accuracy: 0.8537\n",
      "Epoch 17/100\n",
      "12/12 [==============================] - 0s 6ms/step - loss: 0.4938 - accuracy: 0.9534 - val_loss: 1.2764 - val_accuracy: 0.8537\n",
      "Epoch 18/100\n",
      "12/12 [==============================] - 0s 6ms/step - loss: 0.5292 - accuracy: 0.9507 - val_loss: 1.2768 - val_accuracy: 0.8537\n",
      "Epoch 19/100\n",
      "12/12 [==============================] - 0s 6ms/step - loss: 0.5275 - accuracy: 0.9534 - val_loss: 1.2752 - val_accuracy: 0.8537\n",
      "Epoch 20/100\n",
      "12/12 [==============================] - 0s 6ms/step - loss: 0.4437 - accuracy: 0.9589 - val_loss: 1.2835 - val_accuracy: 0.8537\n",
      "Epoch 21/100\n",
      "12/12 [==============================] - 0s 6ms/step - loss: 0.4093 - accuracy: 0.9562 - val_loss: 1.2909 - val_accuracy: 0.8537\n",
      "Epoch 22/100\n",
      "12/12 [==============================] - 0s 6ms/step - loss: 0.4029 - accuracy: 0.9644 - val_loss: 1.6033 - val_accuracy: 0.8537\n",
      "Epoch 23/100\n",
      "12/12 [==============================] - 0s 6ms/step - loss: 0.3992 - accuracy: 0.9671 - val_loss: 1.6092 - val_accuracy: 0.8537\n",
      "Epoch 24/100\n",
      "12/12 [==============================] - 0s 6ms/step - loss: 0.4045 - accuracy: 0.9671 - val_loss: 1.6097 - val_accuracy: 0.8537\n",
      "Epoch 25/100\n",
      "12/12 [==============================] - 0s 6ms/step - loss: 0.3987 - accuracy: 0.9671 - val_loss: 1.3581 - val_accuracy: 0.8537\n",
      "Epoch 26/100\n",
      "12/12 [==============================] - 0s 6ms/step - loss: 0.3934 - accuracy: 0.9699 - val_loss: 1.6108 - val_accuracy: 0.8537\n",
      "Epoch 27/100\n",
      "12/12 [==============================] - 0s 6ms/step - loss: 0.3971 - accuracy: 0.9616 - val_loss: 1.6396 - val_accuracy: 0.8537\n",
      "Epoch 28/100\n",
      "12/12 [==============================] - 0s 6ms/step - loss: 0.3555 - accuracy: 0.9671 - val_loss: 1.6348 - val_accuracy: 0.8537\n",
      "Epoch 29/100\n",
      "12/12 [==============================] - 0s 6ms/step - loss: 0.3924 - accuracy: 0.9699 - val_loss: 1.8972 - val_accuracy: 0.8537\n"
     ]
    }
   ],
   "source": [
    "callback = tf.keras.callbacks.EarlyStopping(monitor='accuracy', patience=3)\n",
    "history = model.fit(x_train_token, y_train_token,\n",
    "                    batch_size=batch_size,\n",
    "                    epochs=epochs,\n",
    "                    verbose=1,\n",
    "                    callbacks=[callback],\n",
    "                    validation_split=0.1)"
   ]
  },
  {
   "cell_type": "markdown",
   "id": "3f9d30e3",
   "metadata": {},
   "source": [
    "## 模型评价"
   ]
  },
  {
   "cell_type": "code",
   "execution_count": 43,
   "id": "91ba6392",
   "metadata": {
    "collapsed": false,
    "jupyter": {
     "outputs_hidden": false
    }
   },
   "outputs": [
    {
     "name": "stdout",
     "output_type": "stream",
     "text": [
      "4/4 [==============================] - 0s 2ms/step - loss: 1.5151 - accuracy: 0.8189\n",
      "Test loss: 1.515089988708496\n",
      "Test accuracy: 0.8188976645469666\n"
     ]
    }
   ],
   "source": [
    "score = model.evaluate(x_test_token, y_test_token,\n",
    "                       batch_size=batch_size, verbose=1)\n",
    "print('Test loss:', score[0])\n",
    "print('Test accuracy:', score[1])"
   ]
  },
  {
   "cell_type": "markdown",
   "id": "15bda15f",
   "metadata": {},
   "source": [
    "# Word2Vec + LSTM"
   ]
  },
  {
   "cell_type": "markdown",
   "id": "5d560248",
   "metadata": {},
   "source": [
    "## 文本预处理\n",
    "\n",
    "我们建立词字典进行词编码，字典的大小限制在 1000 词"
   ]
  },
  {
   "cell_type": "code",
   "execution_count": 44,
   "id": "6d838114",
   "metadata": {
    "collapsed": false,
    "jupyter": {
     "outputs_hidden": false
    }
   },
   "outputs": [
    {
     "data": {
      "text/plain": [
       "array(['', '[UNK]', '，', '的', '。', '了', '我', '看', '是', '！', '…', '在',\n",
       "       '最后', '都', '还是', '终于', '不', '就', '和', '完'], dtype='<U5')"
      ]
     },
     "execution_count": 44,
     "metadata": {},
     "output_type": "execute_result"
    }
   ],
   "source": [
    "VOCAB_SIZE = 1000\n",
    "encoder = tf.keras.layers.TextVectorization(\n",
    "    max_tokens=VOCAB_SIZE)\n",
    "encoder.adapt(train_ds.map(lambda text, label: text))\n",
    "vocab = np.array(encoder.get_vocabulary())\n",
    "vocab[:20]"
   ]
  },
  {
   "cell_type": "markdown",
   "id": "d5c9c597",
   "metadata": {},
   "source": [
    "编码的长度由所有文本中最长的文本决定"
   ]
  },
  {
   "cell_type": "code",
   "execution_count": 45,
   "id": "5dc5fafc",
   "metadata": {
    "collapsed": false,
    "jupyter": {
     "outputs_hidden": false
    }
   },
   "outputs": [
    {
     "data": {
      "text/plain": [
       "array([[372,   7,   5, 382,   0,   0,   0,   0,   0,   0,   0,   0,   0,\n",
       "          0,   0,   0,   0,   0,   0,   0,   0,   0,   0,   0,   0,   0,\n",
       "          0,   0,   0,   0,   0,   0,   0,   0,   0,   0,   0,   0,   0,\n",
       "          0,   0,   0,   0,   0,   0,   0,   0,   0,   0,   0,   0,   0,\n",
       "          0,   0,   0,   0,   0,   0,   0,   0,   0,   0,   0,   0,   0,\n",
       "          0,   0,   0,   0,   0,   0,   0,   0,   0,   0,   0,   0,   0,\n",
       "          0,   0,   0,   0,   0,   0,   0,   0,   0,   0,   0,   0,   0,\n",
       "          0,   0,   0,   0,   0,   0,   0,   0,   0,   0,   0,   0,   0,\n",
       "          0,   0,   0,   0,   0,   0,   0,   0,   0,   0,   0,   0,   0,\n",
       "          0,   0,   0,   0,   0,   0,   0,   0,   0,   0,   0,   0,   0,\n",
       "          0,   0,   0,   0,   0,   0,   0,   0,   0,   0,   0,   0,   0,\n",
       "          0,   0,   0,   0,   0,   0,   0,   0,   0,   0,   0,   0,   0,\n",
       "          0,   0,   0,   0,   0,   0,   0,   0,   0,   0,   0,   0,   0,\n",
       "          0,   0,   0,   0,   0,   0,   0,   0,   0,   0,   0,   0,   0,\n",
       "          0,   0,   0,   0,   0,   0,   0,   0,   0,   0,   0,   0,   0,\n",
       "          0,   0],\n",
       "       [460, 186,  39,  26,   1,   3,  22,   0,   0,   0,   0,   0,   0,\n",
       "          0,   0,   0,   0,   0,   0,   0,   0,   0,   0,   0,   0,   0,\n",
       "          0,   0,   0,   0,   0,   0,   0,   0,   0,   0,   0,   0,   0,\n",
       "          0,   0,   0,   0,   0,   0,   0,   0,   0,   0,   0,   0,   0,\n",
       "          0,   0,   0,   0,   0,   0,   0,   0,   0,   0,   0,   0,   0,\n",
       "          0,   0,   0,   0,   0,   0,   0,   0,   0,   0,   0,   0,   0,\n",
       "          0,   0,   0,   0,   0,   0,   0,   0,   0,   0,   0,   0,   0,\n",
       "          0,   0,   0,   0,   0,   0,   0,   0,   0,   0,   0,   0,   0,\n",
       "          0,   0,   0,   0,   0,   0,   0,   0,   0,   0,   0,   0,   0,\n",
       "          0,   0,   0,   0,   0,   0,   0,   0,   0,   0,   0,   0,   0,\n",
       "          0,   0,   0,   0,   0,   0,   0,   0,   0,   0,   0,   0,   0,\n",
       "          0,   0,   0,   0,   0,   0,   0,   0,   0,   0,   0,   0,   0,\n",
       "          0,   0,   0,   0,   0,   0,   0,   0,   0,   0,   0,   0,   0,\n",
       "          0,   0,   0,   0,   0,   0,   0,   0,   0,   0,   0,   0,   0,\n",
       "          0,   0,   0,   0,   0,   0,   0,   0,   0,   0,   0,   0,   0,\n",
       "          0,   0],\n",
       "       [  1,  91, 366,  19,   2,   1,  87,   5, 145, 103,   1,   3,   1,\n",
       "          3,  53,   4,   0,   0,   0,   0,   0,   0,   0,   0,   0,   0,\n",
       "          0,   0,   0,   0,   0,   0,   0,   0,   0,   0,   0,   0,   0,\n",
       "          0,   0,   0,   0,   0,   0,   0,   0,   0,   0,   0,   0,   0,\n",
       "          0,   0,   0,   0,   0,   0,   0,   0,   0,   0,   0,   0,   0,\n",
       "          0,   0,   0,   0,   0,   0,   0,   0,   0,   0,   0,   0,   0,\n",
       "          0,   0,   0,   0,   0,   0,   0,   0,   0,   0,   0,   0,   0,\n",
       "          0,   0,   0,   0,   0,   0,   0,   0,   0,   0,   0,   0,   0,\n",
       "          0,   0,   0,   0,   0,   0,   0,   0,   0,   0,   0,   0,   0,\n",
       "          0,   0,   0,   0,   0,   0,   0,   0,   0,   0,   0,   0,   0,\n",
       "          0,   0,   0,   0,   0,   0,   0,   0,   0,   0,   0,   0,   0,\n",
       "          0,   0,   0,   0,   0,   0,   0,   0,   0,   0,   0,   0,   0,\n",
       "          0,   0,   0,   0,   0,   0,   0,   0,   0,   0,   0,   0,   0,\n",
       "          0,   0,   0,   0,   0,   0,   0,   0,   0,   0,   0,   0,   0,\n",
       "          0,   0,   0,   0,   0,   0,   0,   0,   0,   0,   0,   0,   0,\n",
       "          0,   0]])"
      ]
     },
     "execution_count": 45,
     "metadata": {},
     "output_type": "execute_result"
    }
   ],
   "source": [
    "encoded_example = encoder(text_batch)[:3].numpy()\n",
    "encoded_example"
   ]
  },
  {
   "cell_type": "markdown",
   "id": "7982a83c",
   "metadata": {},
   "source": [
    "打印示例："
   ]
  },
  {
   "cell_type": "raw",
   "id": "842e3717",
   "metadata": {
    "tags": []
   },
   "source": [
    "for n in range(3):\n",
    "  print(\"Original: \", text_batch[n].numpy())\n",
    "  print(\"Round-trip: \", \" \".join(vocab[encoded_example[n]]))\n",
    "  print()"
   ]
  },
  {
   "cell_type": "markdown",
   "id": "153ada6f",
   "metadata": {},
   "source": [
    "## 模型结构"
   ]
  },
  {
   "cell_type": "markdown",
   "id": "3a05059c",
   "metadata": {},
   "source": [
    "1. 第一层为 `Embedding` 层，我们使用 `word2vec` 方法将单词编码转换为词向量。这些词向量经过训练，对于意思相近的词，其向量夹角小。\n",
    "2. 第二层使用双向的长短期记忆层。长短期记忆网络层是一种特殊的循环神经网络层，它能够减轻长序列训练过程中的梯度消失和梯度爆炸问题，适合此处词向量长度较长的情况。它遍历序列中的每个元素作为输入，按照时间顺序传递输出。由于我们使用双向结构，最终结果由输入的前向和后向传递共同决定，这使得最前端的输入不必通过漫长的处理步数才能影响到最终结果，有效的提高了训练在文本中的均匀度。\n",
    "3. 第三层为全连接层，由于在多层神经网络中梯度容易在深层网络中变得极小，使得参数无法正常更新，所以我们使用 `RELU` 作为激活函数解决梯度消失问题。\n",
    "4. 第四层为输出维度为 5 的输出层，为了得到多分类的概率值，使用 `softmax` 函数将输出值压缩至 0 - 1 的范围内。"
   ]
  },
  {
   "cell_type": "code",
   "execution_count": 48,
   "id": "593b60c9",
   "metadata": {
    "collapsed": false,
    "jupyter": {
     "outputs_hidden": false
    }
   },
   "outputs": [
    {
     "name": "stdout",
     "output_type": "stream",
     "text": [
      "Model: \"sequential_3\"\n",
      "_________________________________________________________________\n",
      " Layer (type)                Output Shape              Param #   \n",
      "=================================================================\n",
      " text_vectorization_1 (TextV  (None, None)             0         \n",
      " ectorization)                                                   \n",
      "                                                                 \n",
      " embedding_1 (Embedding)     (None, None, 64)          64000     \n",
      "                                                                 \n",
      " bidirectional_1 (Bidirectio  (None, 128)              66048     \n",
      " nal)                                                            \n",
      "                                                                 \n",
      " dense_8 (Dense)             (None, 64)                8256      \n",
      "                                                                 \n",
      " dense_9 (Dense)             (None, 1)                 65        \n",
      "                                                                 \n",
      "=================================================================\n",
      "Total params: 138,369\n",
      "Trainable params: 138,369\n",
      "Non-trainable params: 0\n",
      "_________________________________________________________________\n"
     ]
    }
   ],
   "source": [
    "model = tf.keras.Sequential([\n",
    "    encoder,\n",
    "    tf.keras.layers.Embedding(\n",
    "        input_dim=len(encoder.get_vocabulary()),\n",
    "        output_dim=64,\n",
    "        # Use masking to handle the variable sequence lengths\n",
    "        mask_zero=True),\n",
    "    tf.keras.layers.Bidirectional(tf.keras.layers.LSTM(64)),\n",
    "    tf.keras.layers.Dense(64, activation='relu'),\n",
    "    tf.keras.layers.Dense(1)\n",
    "])\n",
    "model.summary()"
   ]
  },
  {
   "cell_type": "code",
   "execution_count": 49,
   "id": "361566aa",
   "metadata": {
    "collapsed": false,
    "jupyter": {
     "outputs_hidden": false
    },
    "tags": []
   },
   "outputs": [],
   "source": [
    "model.compile(loss=tf.keras.losses.BinaryCrossentropy(from_logits=True),\n",
    "              optimizer=tf.keras.optimizers.Adam(1e-4),\n",
    "              metrics=['accuracy'])"
   ]
  },
  {
   "cell_type": "markdown",
   "id": "63ec7c78",
   "metadata": {
    "tags": []
   },
   "source": [
    "## 训练模型"
   ]
  },
  {
   "cell_type": "code",
   "execution_count": 50,
   "id": "a5ad7f0d",
   "metadata": {
    "collapsed": false,
    "jupyter": {
     "outputs_hidden": false
    },
    "tags": []
   },
   "outputs": [
    {
     "name": "stdout",
     "output_type": "stream",
     "text": [
      "Epoch 1/4\n",
      "13/13 [==============================] - 11s 273ms/step - loss: 0.6917 - accuracy: 0.1675 - val_loss: 0.6858 - val_accuracy: 0.1569\n",
      "Epoch 2/4\n",
      "13/13 [==============================] - 1s 76ms/step - loss: 0.6834 - accuracy: 0.1675\n",
      "Epoch 3/4\n",
      "13/13 [==============================] - 1s 73ms/step - loss: 0.6742 - accuracy: 0.1675\n",
      "Epoch 4/4\n",
      "13/13 [==============================] - 1s 73ms/step - loss: 0.6627 - accuracy: 0.1675\n"
     ]
    }
   ],
   "source": [
    "history = model.fit(train_ds, epochs=4,\n",
    "                    validation_data=val_ds,\n",
    "                    validation_steps=30)"
   ]
  },
  {
   "cell_type": "code",
   "execution_count": 53,
   "id": "005d328f",
   "metadata": {
    "collapsed": false,
    "jupyter": {
     "outputs_hidden": false
    },
    "tags": []
   },
   "outputs": [
    {
     "data": {
      "image/png": "[encoded data removed]",
      "text/plain": [
       "<Figure size 1152x576 with 2 Axes>"
      ]
     },
     "metadata": {
      "needs_background": "light"
     },
     "output_type": "display_data"
    }
   ],
   "source": [
    "def plot_graphs(history, metric):\n",
    "  plt.plot(history.history[metric])\n",
    "  plt.plot(history.history['val_'+metric], '')\n",
    "  plt.xlabel(\"Epochs\")\n",
    "  plt.ylabel(metric)\n",
    "  plt.legend([metric, 'val_'+metric])\n",
    "\n",
    "plt.figure(figsize=(16, 8))\n",
    "plt.subplot(1, 2, 1)\n",
    "plot_graphs(history, 'accuracy')\n",
    "plt.ylim(None, 1)\n",
    "plt.subplot(1, 2, 2)\n",
    "plot_graphs(history, 'loss')\n",
    "plt.ylim(0, None)\n",
    "plt.savefig('./figure/word2vec_lstm.png')\n",
    "plt.show()"
   ]
  },
  {
   "cell_type": "markdown",
   "id": "dc2f2a14",
   "metadata": {},
   "source": [
    "## 模型评价"
   ]
  },
  {
   "cell_type": "code",
   "execution_count": 54,
   "id": "64c75c5e",
   "metadata": {
    "collapsed": false,
    "jupyter": {
     "outputs_hidden": false
    }
   },
   "outputs": [
    {
     "name": "stdout",
     "output_type": "stream",
     "text": [
      "4/4 [==============================] - 0s 26ms/step - loss: 0.6524 - accuracy: 0.1732\n",
      "Test Loss: 0.6524134278297424\n",
      "Test Accuracy: 0.17322835326194763\n"
     ]
    }
   ],
   "source": [
    "test_loss, test_acc = model.evaluate(test_ds)\n",
    "\n",
    "print('Test Loss:', test_loss)\n",
    "print('Test Accuracy:', test_acc)"
   ]
  },
  {
   "cell_type": "markdown",
   "id": "ef91c1d2",
   "metadata": {},
   "source": [
    "# BERT"
   ]
  },
  {
   "cell_type": "markdown",
   "id": "b787cc7d",
   "metadata": {
    "id": "2PHBpLPuQdmK"
   },
   "source": [
    "## BERT 简介\n",
    "\n",
    "BERT 是一系列双向文字编码转换模型的总称，用来结合上下文语义计算每个词的词向量，在自然语言处理中被广泛使用。\n",
    "\n",
    "我们使用了前人在超大型语料库上训练的已有基础 BERT 模型，通过迁移学习的方式在我们的 BBC 文本数据集上进行微调。\n"
   ]
  },
  {
   "cell_type": "markdown",
   "id": "69fa0fcb",
   "metadata": {
    "id": "dX8FtlpGJRE6"
   },
   "source": [
    "## 加载预训练 BERT 模型\n",
    "\n",
    "我们首先使用了一个参数量较少的 small-BERT 模型用于测试，在通过测试后，为了进一步提升模型的准确度，我们使用 al-BERT 进行正式训练。\n",
    "\n",
    "> 在该笔记本中，我们仅展示 small-BERT 版本"
   ]
  },
  {
   "cell_type": "code",
   "execution_count": 55,
   "id": "a8b1953c",
   "metadata": {
    "collapsed": false,
    "jupyter": {
     "outputs_hidden": false
    }
   },
   "outputs": [],
   "source": [
    "tfhub_handle_encoder = 'https://storage.googleapis.com/tfhub-modules/tensorflow/small_bert/bert_en_uncased_L-4_H-512_A-8/1.tar.gz'\n",
    "tfhub_handle_preprocess = 'https://storage.googleapis.com/tfhub-modules/tensorflow/bert_en_uncased_preprocess/3.tar.gz'"
   ]
  },
  {
   "cell_type": "markdown",
   "id": "da68c7c1",
   "metadata": {
    "id": "7WrcxxTRDdHi"
   },
   "source": [
    "## 预处理模型\n",
    "\n",
    "在 BERT 的输入层，对于原始的文字输入，我们需要将其转换成为数值编码。每一个 BERT 模型都有其严格对应的预处理模型来提升转换效果。\n",
    "\n",
    "我们展示该预处理模型的输出结果，可以看到该预处理模型将输入的向量设为 128 的长度。"
   ]
  },
  {
   "cell_type": "code",
   "execution_count": 56,
   "id": "bfc60dab",
   "metadata": {
    "collapsed": false,
    "id": "r9-zCzJpnuwS",
    "jupyter": {
     "outputs_hidden": false
    },
    "tags": []
   },
   "outputs": [
    {
     "name": "stdout",
     "output_type": "stream",
     "text": [
      "Keys       : ['input_mask', 'input_word_ids', 'input_type_ids']\n",
      "Shape      : (1, 128)\n",
      "Word Ids   : [ 101 1996 2034 6251 1012 1996 2117 6251 1012  102    0    0]\n",
      "Input Mask : [1 1 1 1 1 1 1 1 1 1 0 0]\n",
      "Type Ids   : [0 0 0 0 0 0 0 0 0 0 0 0]\n"
     ]
    }
   ],
   "source": [
    "bert_preprocess_model = hub.KerasLayer(tfhub_handle_preprocess)\n",
    "text_test = ['The first sentence. The second sentence.']\n",
    "text_preprocessed = bert_preprocess_model(text_test)\n",
    "\n",
    "print(f'Keys       : {list(text_preprocessed.keys())}')\n",
    "print(f'Shape      : {text_preprocessed[\"input_word_ids\"].shape}')\n",
    "print(f'Word Ids   : {text_preprocessed[\"input_word_ids\"][0, :12]}')\n",
    "print(f'Input Mask : {text_preprocessed[\"input_mask\"][0, :12]}')\n",
    "print(f'Type Ids   : {text_preprocessed[\"input_type_ids\"][0, :12]}')"
   ]
  },
  {
   "cell_type": "markdown",
   "id": "3e03e9df",
   "metadata": {
    "id": "DKnLPSEmtp9i"
   },
   "source": [
    "## BERT 模型\n",
    "\n",
    "在进行迁移学习之前，我们先看预训练 BERT 模型的输出格式"
   ]
  },
  {
   "cell_type": "code",
   "execution_count": 57,
   "id": "f05eed39",
   "metadata": {
    "collapsed": false,
    "id": "_OoF9mebuSZc",
    "jupyter": {
     "outputs_hidden": false
    },
    "tags": []
   },
   "outputs": [
    {
     "name": "stdout",
     "output_type": "stream",
     "text": [
      "Pooled Outputs Shape:(1, 512)\n",
      "Pooled Outputs Values:[ 0.9992781   0.31525105 -0.25964963  0.55944437  0.00783995  0.9791419\n",
      "  0.9977204  -0.9327053  -0.84368324 -0.98138165 -0.4435     -0.9903451 ]\n",
      "Sequence Outputs Shape:(1, 128, 512)\n",
      "Sequence Outputs Values:[[ 0.4488559  -0.5851824  -0.6790177  ... -1.764277   -0.45622617\n",
      "   0.35492766]\n",
      " [ 0.24628739  0.08727125 -1.2822778  ... -2.0664744  -0.27477688\n",
      "  -0.2544793 ]\n",
      " [ 0.43256244  0.5654976  -0.79072297 ... -0.65594614 -0.22825454\n",
      "  -0.04055907]\n",
      " ...\n",
      " [ 1.1035298  -0.97563946  0.19795775 ... -1.2058376   0.00869213\n",
      "   0.69881415]\n",
      " [ 0.25988367 -0.39930332 -0.49941957 ... -1.1005459  -0.14869173\n",
      "   0.27366376]\n",
      " [ 0.18883078 -0.47520044 -0.4314221  ... -1.1670263  -0.05709446\n",
      "   0.17906033]]\n"
     ]
    }
   ],
   "source": [
    "bert_model = hub.KerasLayer(tfhub_handle_encoder)\n",
    "bert_results = bert_model(text_preprocessed)\n",
    "\n",
    "print(f'Pooled Outputs Shape:{bert_results[\"pooled_output\"].shape}')\n",
    "print(f'Pooled Outputs Values:{bert_results[\"pooled_output\"][0, :12]}')\n",
    "print(f'Sequence Outputs Shape:{bert_results[\"sequence_output\"].shape}')\n",
    "print(f'Sequence Outputs Values:{bert_results[\"sequence_output\"][0, :12]}')"
   ]
  },
  {
   "cell_type": "markdown",
   "id": "c82438f7",
   "metadata": {
    "id": "pDNKfAXbDnJH"
   },
   "source": [
    "## 迁移学习"
   ]
  },
  {
   "cell_type": "code",
   "execution_count": 58,
   "id": "09cdd93e",
   "metadata": {
    "collapsed": false,
    "id": "aksj743St9ga",
    "jupyter": {
     "outputs_hidden": false
    },
    "tags": []
   },
   "outputs": [],
   "source": [
    "def build_classifier_model():\n",
    "  text_input = tf.keras.layers.Input(shape=(), dtype=tf.string, name='text')\n",
    "  preprocessing_layer = hub.KerasLayer(tfhub_handle_preprocess, name='preprocessing')\n",
    "  encoder_inputs = preprocessing_layer(text_input)\n",
    "  encoder = hub.KerasLayer(tfhub_handle_encoder, trainable=True, name='BERT_encoder')\n",
    "  outputs = encoder(encoder_inputs)\n",
    "  net = outputs['pooled_output']\n",
    "  net = tf.keras.layers.Dropout(0.1)(net)\n",
    "  net = tf.keras.layers.Dense(1)(net)\n",
    "  return tf.keras.Model(text_input, net)"
   ]
  },
  {
   "cell_type": "markdown",
   "id": "b22c0972",
   "metadata": {
    "id": "Zs4yhFraBuGQ"
   },
   "source": [
    "在开始训练之前，我们测试模型搭建过程是否有误。"
   ]
  },
  {
   "cell_type": "code",
   "execution_count": 59,
   "id": "96dc0816",
   "metadata": {
    "collapsed": false,
    "id": "mGMF8AZcB2Zy",
    "jupyter": {
     "outputs_hidden": false
    },
    "tags": []
   },
   "outputs": [
    {
     "name": "stdout",
     "output_type": "stream",
     "text": [
      "tf.Tensor([[0.40976995]], shape=(1, 1), dtype=float32)\n"
     ]
    }
   ],
   "source": [
    "classifier_model = build_classifier_model()\n",
    "bert_raw_result = classifier_model(tf.constant(text_test))\n",
    "print(tf.sigmoid(bert_raw_result))"
   ]
  },
  {
   "cell_type": "code",
   "execution_count": 60,
   "id": "8d7491b0",
   "metadata": {
    "collapsed": false,
    "id": "0EmzyHZXKIpm",
    "jupyter": {
     "outputs_hidden": false
    },
    "tags": []
   },
   "outputs": [
    {
     "data": {
      "image/png": "[encoded data removed]",
      "text/plain": [
       "<IPython.core.display.Image object>"
      ]
     },
     "execution_count": 60,
     "metadata": {},
     "output_type": "execute_result"
    }
   ],
   "source": [
    "tf.keras.utils.plot_model(classifier_model)"
   ]
  },
  {
   "cell_type": "code",
   "execution_count": 61,
   "id": "8582ec6f",
   "metadata": {
    "collapsed": false,
    "jupyter": {
     "outputs_hidden": false
    }
   },
   "outputs": [
    {
     "name": "stdout",
     "output_type": "stream",
     "text": [
      "Model: \"model\"\n",
      "__________________________________________________________________________________________________\n",
      " Layer (type)                   Output Shape         Param #     Connected to                     \n",
      "==================================================================================================\n",
      " text (InputLayer)              [(None,)]            0           []                               \n",
      "                                                                                                  \n",
      " preprocessing (KerasLayer)     {'input_word_ids':   0           ['text[0][0]']                   \n",
      "                                (None, 128),                                                      \n",
      "                                 'input_mask': (Non                                               \n",
      "                                e, 128),                                                          \n",
      "                                 'input_type_ids':                                                \n",
      "                                (None, 128)}                                                      \n",
      "                                                                                                  \n",
      " BERT_encoder (KerasLayer)      {'sequence_output':  28763649    ['preprocessing[0][0]',          \n",
      "                                 (None, 128, 512),                'preprocessing[0][1]',          \n",
      "                                 'encoder_outputs':               'preprocessing[0][2]']          \n",
      "                                 [(None, 128, 512),                                               \n",
      "                                 (None, 128, 512),                                                \n",
      "                                 (None, 128, 512),                                                \n",
      "                                 (None, 128, 512)],                                               \n",
      "                                 'pooled_output': (                                               \n",
      "                                None, 512),                                                       \n",
      "                                 'default': (None,                                                \n",
      "                                512)}                                                             \n",
      "                                                                                                  \n",
      " dropout_4 (Dropout)            (None, 512)          0           ['BERT_encoder[0][5]']           \n",
      "                                                                                                  \n",
      " dense_10 (Dense)               (None, 1)            513         ['dropout_4[0][0]']              \n",
      "                                                                                                  \n",
      "==================================================================================================\n",
      "Total params: 28,764,162\n",
      "Trainable params: 28,764,161\n",
      "Non-trainable params: 1\n",
      "__________________________________________________________________________________________________\n"
     ]
    }
   ],
   "source": [
    "classifier_model.summary()"
   ]
  },
  {
   "cell_type": "markdown",
   "id": "88167c34",
   "metadata": {
    "id": "WbUWoZMwc302",
    "tags": []
   },
   "source": [
    "## 训练模型"
   ]
  },
  {
   "cell_type": "markdown",
   "id": "bde07ebf",
   "metadata": {
    "id": "WpJ3xcwDT56v"
   },
   "source": [
    "### 损失函数\n",
    "\n",
    "我们使用交叉熵作为我们的损失函数：\n",
    "\n",
    "$$ -\\sum_{c=1}^My_{o,c}\\log(p_{o,c}) $$\n",
    "\n",
    "其中：\n",
    "\n",
    "- M 是分类数\n",
    "- y 是标签 c 在观测 o 下是否分类正确的 0/1 变量\n",
    "- p 是预测概率"
   ]
  },
  {
   "cell_type": "code",
   "execution_count": 62,
   "id": "71701bb1",
   "metadata": {
    "collapsed": false,
    "id": "OWPOZE-L3AgE",
    "jupyter": {
     "outputs_hidden": false
    },
    "tags": []
   },
   "outputs": [],
   "source": [
    "loss = tf.keras.losses.BinaryCrossentropy()\n",
    "metrics = tf.metrics.BinaryAccuracy()"
   ]
  },
  {
   "cell_type": "markdown",
   "id": "7aa94086",
   "metadata": {
    "id": "77psrpfzbxtp"
   },
   "source": [
    "### 学习率\n",
    "\n",
    "由于神经网络刚开始训练时非常不稳定，因此刚开始的学习率应当设置得很低很低，这样可以保证网络能够具有良好的收敛性。但是较低的学习率会使得训练过程变得非常缓慢，因此这里采用从较低学习率逐渐增大至较高学习率的方式实现网络训练前 10% 次迭代的“热身”阶段。一直使用较高学习率是不合适的，因为它会使得权重的梯度一直来回震荡，很难使训练的损失值达到全局最低谷。因此在 warm-up 结束后，我们使用线性减小的学习率。"
   ]
  },
  {
   "cell_type": "code",
   "execution_count": 63,
   "id": "3807ebbf",
   "metadata": {
    "collapsed": false,
    "id": "P9eP2y9dbw32",
    "jupyter": {
     "outputs_hidden": false
    },
    "tags": []
   },
   "outputs": [],
   "source": [
    "epochs = 5\n",
    "steps_per_epoch = tf.data.experimental.cardinality(train_ds).numpy()\n",
    "num_train_steps = steps_per_epoch * epochs\n",
    "num_warmup_steps = int(0.1*num_train_steps)"
   ]
  },
  {
   "cell_type": "markdown",
   "id": "162620ed",
   "metadata": {
    "id": "77psrpfzbxtp",
    "tags": []
   },
   "source": [
    "### 优化器\n",
    "\n",
    "在迁移学习时，我们选取的优化器与 BERT 在预训练时的 `Adamw` 优化器保持一致。\n",
    "\n",
    "<img src=\"./figure/Adamw.png\" alt=\"Drawing\" style=\"width: 400px;\"/>\n",
    "\n",
    "Adam 的超收敛性质使其在训练学习率高的神经网络时可以达到节省迭代次数的效果。只要调整得当，Adam 在实践上都能达到 SGD+Momentum 的高准确率，而且速度更快。在几年前人们普遍认为 Adam 的泛化性能不如 SGD+Momentum，然而今年论文表明这通常是由于所选择的超参数不正确导致，通常来说 Adam 需要的正则化比 SGD 更多。"
   ]
  },
  {
   "cell_type": "code",
   "execution_count": 64,
   "id": "5a4ffb95",
   "metadata": {
    "collapsed": false,
    "id": "P9eP2y9dbw32",
    "jupyter": {
     "outputs_hidden": false
    },
    "tags": []
   },
   "outputs": [],
   "source": [
    "init_lr = 3e-5\n",
    "optimizer = optimization.create_optimizer(init_lr=init_lr,\n",
    "                                          num_train_steps=num_train_steps,\n",
    "                                          num_warmup_steps=num_warmup_steps,\n",
    "                                          optimizer_type='adamw')"
   ]
  },
  {
   "cell_type": "markdown",
   "id": "e755d615",
   "metadata": {
    "id": "SqlarlpC_v0g"
   },
   "source": [
    "### 开始训练"
   ]
  },
  {
   "cell_type": "code",
   "execution_count": 65,
   "id": "bff2c34a",
   "metadata": {
    "collapsed": false,
    "id": "HtfDFAnN_Neu",
    "jupyter": {
     "outputs_hidden": false
    },
    "tags": []
   },
   "outputs": [
    {
     "name": "stdout",
     "output_type": "stream",
     "text": [
      "----- 训练开始 -----\n",
      "Epoch 1/5\n",
      "13/13 [==============================] - 29s 2s/step - loss: 2.5787 - binary_accuracy: 0.7365 - val_loss: 2.3920 - val_binary_accuracy: 0.8431\n",
      "Epoch 2/5\n",
      "13/13 [==============================] - 21s 2s/step - loss: 2.5541 - binary_accuracy: 0.8325 - val_loss: 2.3920 - val_binary_accuracy: 0.8431\n",
      "Epoch 3/5\n",
      "13/13 [==============================] - 21s 2s/step - loss: 2.5541 - binary_accuracy: 0.8325 - val_loss: 2.3920 - val_binary_accuracy: 0.8431\n",
      "Epoch 4/5\n",
      "13/13 [==============================] - 21s 2s/step - loss: 2.5541 - binary_accuracy: 0.8325 - val_loss: 2.3920 - val_binary_accuracy: 0.8431\n",
      "Epoch 5/5\n",
      "13/13 [==============================] - 21s 2s/step - loss: 2.5541 - binary_accuracy: 0.8325 - val_loss: 2.3920 - val_binary_accuracy: 0.8431\n",
      "----- 训练完成 -----\n",
      "CPU times: user 8min 17s, sys: 1min 51s, total: 10min 8s\n",
      "Wall time: 1min 52s\n"
     ]
    }
   ],
   "source": [
    "%%time\n",
    "classifier_model.compile(optimizer=optimizer,\n",
    "                         loss=loss,\n",
    "                         metrics=metrics)\n",
    "print('----- 训练开始 -----')\n",
    "history = classifier_model.fit(x=train_ds,\n",
    "                               validation_data=val_ds,\n",
    "                               epochs=epochs)\n",
    "print('----- 训练完成 -----')"
   ]
  },
  {
   "cell_type": "code",
   "execution_count": 66,
   "id": "a9a369ad",
   "metadata": {
    "collapsed": false,
    "id": "fiythcODf0xo",
    "jupyter": {
     "outputs_hidden": false
    },
    "tags": []
   },
   "outputs": [
    {
     "data": {
      "image/png": "[encoded data removed]",
      "text/plain": [
       "<Figure size 720x432 with 2 Axes>"
      ]
     },
     "metadata": {
      "needs_background": "light"
     },
     "output_type": "display_data"
    }
   ],
   "source": [
    "history_dict = history.history\n",
    "\n",
    "acc = history_dict['binary_accuracy']\n",
    "val_acc = history_dict['val_binary_accuracy']\n",
    "loss = history_dict['loss']\n",
    "val_loss = history_dict['val_loss']\n",
    "\n",
    "epochs = range(1, len(acc) + 1)\n",
    "fig = plt.figure(figsize=(10, 6))\n",
    "fig.tight_layout()\n",
    "\n",
    "plt.subplot(2, 1, 1)\n",
    "# r is for \"solid red line\"\n",
    "plt.plot(epochs, loss, 'r', label='Training loss')\n",
    "# b is for \"solid blue line\"\n",
    "plt.plot(epochs, val_loss, 'b', label='Validation loss')\n",
    "plt.title('Training and validation loss')\n",
    "# plt.xlabel('Epochs')\n",
    "plt.ylabel('Loss')\n",
    "plt.legend()\n",
    "\n",
    "plt.subplot(2, 1, 2)\n",
    "plt.plot(epochs, acc, 'r', label='Training acc')\n",
    "plt.plot(epochs, val_acc, 'b', label='Validation acc')\n",
    "plt.title('Training and validation accuracy')\n",
    "plt.xlabel('Epochs')\n",
    "plt.ylabel('Accuracy')\n",
    "plt.legend(loc='lower right')\n",
    "plt.savefig('./figure/bert_train.png')\n",
    "plt.show()"
   ]
  },
  {
   "cell_type": "markdown",
   "id": "d73c0d7e",
   "metadata": {
    "id": "uBthMlTSV8kn"
   },
   "source": [
    "## 模型评价\n",
    "\n",
    "我们在测试集上计算分类准确率"
   ]
  },
  {
   "cell_type": "code",
   "execution_count": 67,
   "id": "023ac5c4",
   "metadata": {
    "collapsed": false,
    "id": "slqB-urBV9sP",
    "jupyter": {
     "outputs_hidden": false
    },
    "tags": []
   },
   "outputs": [
    {
     "name": "stdout",
     "output_type": "stream",
     "text": [
      "4/4 [==============================] - 2s 416ms/step - loss: 2.6416 - binary_accuracy: 0.8268\n",
      "Loss: 2.6416003704071045\n",
      "Accuracy: 0.8267716765403748\n"
     ]
    }
   ],
   "source": [
    "loss, accuracy = classifier_model.evaluate(test_ds)\n",
    "print(f'Loss: {loss}')\n",
    "print(f'Accuracy: {accuracy}')"
   ]
  },
  {
   "cell_type": "code",
   "execution_count": 30,
   "id": "e1489a36",
   "metadata": {
    "collapsed": false,
    "jupyter": {
     "outputs_hidden": false
    },
    "tags": []
   },
   "outputs": [
    {
     "data": {
      "image/png": "[encoded data removed]",
      "text/plain": [
       "<Figure size 1728x1440 with 2 Axes>"
      ]
     },
     "metadata": {},
     "output_type": "display_data"
    }
   ],
   "source": [
    "def plot_confusion_matrix(cm, classes,\n",
    "                          title='Confusion matrix',\n",
    "                          cmap=plt.cm.Blues):\n",
    "\n",
    "    cm = cm.astype('float') / cm.sum(axis=1)[:, np.newaxis]\n",
    "\n",
    "    plt.imshow(cm, interpolation='nearest', cmap=cmap)\n",
    "    plt.title(title, fontsize=30)\n",
    "    plt.colorbar()\n",
    "    tick_marks = np.arange(len(classes))\n",
    "    plt.xticks(tick_marks, classes, rotation=45, fontsize=22)\n",
    "    plt.yticks(tick_marks, classes, fontsize=22)\n",
    "\n",
    "    fmt = '.2f'\n",
    "    thresh = cm.max() / 2.\n",
    "    for i, j in itertools.product(range(cm.shape[0]), range(cm.shape[1])):\n",
    "        plt.text(j, i, format(cm[i, j], fmt),\n",
    "                 horizontalalignment=\"center\",\n",
    "                 color=\"white\" if cm[i, j] > thresh else \"black\")\n",
    "\n",
    "    plt.ylabel('True label', fontsize=25)\n",
    "    plt.xlabel('Predicted label', fontsize=25)\n",
    "    \n",
    "predict_probability = classifier_model.predict(test_ds)\n",
    "prediction = [np.argmax(i) for i in predict_probability]\n",
    "cnf_matrix = confusion_matrix(y_test.tolist(), prediction)\n",
    "plt.figure(figsize=(24,20))\n",
    "plot_confusion_matrix(cnf_matrix, classes=text_labels, title=\"Confusion matrix\")\n",
    "plt.show()"
   ]
  },
  {
   "cell_type": "markdown",
   "id": "ed51a35b",
   "metadata": {
    "id": "Rtn7jewb6dg4"
   },
   "source": [
    "## 模型应用\n",
    "\n",
    "我们将经过训练完成的模型保存，方便调用。"
   ]
  },
  {
   "cell_type": "code",
   "execution_count": 31,
   "id": "df293060",
   "metadata": {
    "collapsed": false,
    "id": "ShcvqJAgVera",
    "jupyter": {
     "outputs_hidden": false
    },
    "tags": []
   },
   "outputs": [
    {
     "name": "stderr",
     "output_type": "stream",
     "text": [
      "2022-01-16 19:42:57.308470: W tensorflow/python/util/util.cc:368] Sets are not currently considered sequences, but this may change in the future, so consider avoiding using them.\n",
      "WARNING:absl:Found untraced functions such as restored_function_body, restored_function_body, restored_function_body, restored_function_body, restored_function_body while saving (showing 5 of 310). These functions will not be directly callable after loading.\n"
     ]
    }
   ],
   "source": [
    "classifier_model.save('./model/IMDB_bert', include_optimizer=False)"
   ]
  },
  {
   "cell_type": "markdown",
   "id": "a89f1874",
   "metadata": {},
   "source": [
    "使用模型对输入的文本进行分类。\n",
    "\n",
    "我们输入一则测试新闻文本：“这部电影很差劲”，该文本被模型分类为消极，符合预期。"
   ]
  },
  {
   "cell_type": "code",
   "execution_count": 32,
   "id": "97bf5c04",
   "metadata": {
    "collapsed": false,
    "id": "VBWzH6exlCPS",
    "jupyter": {
     "outputs_hidden": false
    }
   },
   "outputs": [
    {
     "name": "stdout",
     "output_type": "stream",
     "text": [
      "----- 评论积极的概率 -----\n"
     ]
    },
    {
     "data": {
      "text/plain": [
       "{'negative': array([0.07201338], dtype=float32)}"
      ]
     },
     "execution_count": 32,
     "metadata": {},
     "output_type": "execute_result"
    }
   ],
   "source": [
    "model = tf.saved_model.load('./model/IMDB_bert')\n",
    "query = ['This movie is so bad']\n",
    "result = tf.sigmoid(model(tf.constant(query)))\n",
    "print('----- 评论积极的概率 -----')\n",
    "dict(zip(text_labels, result.numpy()))"
   ]
  },
  {
   "cell_type": "markdown",
   "id": "95cc791d",
   "metadata": {},
   "source": [
    "# 分布式训练"
   ]
  },
  {
   "cell_type": "markdown",
   "id": "1bbcdb7b",
   "metadata": {},
   "source": [
    "> 在该笔记本中，我们演示的为并非真实的分布式，而是单机模拟的伪分布式，真实的分布式需要提交到计算机集群。\n",
    "\n",
    "您可在该笔记本中进行代码初步测试，之后通过以下方式提交到中央财经大学高性能大数据计算集群。"
   ]
  },
  {
   "cell_type": "raw",
   "id": "cfcefaf6",
   "metadata": {},
   "source": [
    "ssh cufe@192.168.113.164\n",
    "password: dashuju\n",
    "\n",
    "spark-submit --master yarn code.py --py-files gensim.zip > output.txt"
   ]
  },
  {
   "cell_type": "markdown",
   "id": "9f725b10",
   "metadata": {},
   "source": [
    "* 通过 YARN 资源调度系统提交到作业队列： `spark-submit --master yarn`\n",
    "* 由于在 UDF（用户自定义）函数中使用了第三方包，需要将其发送至集群中的每个计算节点 `--py-files gensim.zip`\n",
    "* 队列计算完成后将结果重定向输出 `> output.txt`"
   ]
  },
  {
   "cell_type": "markdown",
   "id": "c30c0321",
   "metadata": {
    "tags": []
   },
   "source": [
    "## 环境启动"
   ]
  },
  {
   "cell_type": "code",
   "execution_count": 5,
   "id": "3c35c98b",
   "metadata": {
    "collapsed": false,
    "jupyter": {
     "outputs_hidden": false
    }
   },
   "outputs": [],
   "source": [
    "import pandas as pd\n",
    "import pyspark.ml.feature\n",
    "from pyspark.ml import Pipeline\n",
    "from pyspark.ml.tuning import CrossValidator,ParamGridBuilder\n",
    "from pyspark.ml.evaluation import MulticlassClassificationEvaluator\n",
    "from pyspark.ml.feature import Tokenizer,StopWordsRemover,CountVectorizer,IDF,StringIndexer,Word2Vec,HashingTF\n",
    "from pyspark.ml.classification import LogisticRegression,RandomForestClassifier,GBTClassifier,DecisionTreeClassifier\n",
    "from pyspark.sql import SparkSession,Row\n",
    "from pyspark.sql.types import StringType\n",
    "from pyspark.sql.functions import udf, col\n",
    "\n",
    "spark = SparkSession.builder.appName('text_classification').getOrCreate()"
   ]
  },
  {
   "cell_type": "markdown",
   "id": "01c076cd",
   "metadata": {},
   "source": [
    "## 数据读取\n",
    "\n",
    "由于数据为逗号分隔的 csv 格式，在文本列出现混淆。我们使用 pandas 进行读取后再转换为 spark DataFrame 格式"
   ]
  },
  {
   "cell_type": "code",
   "execution_count": 19,
   "id": "b839cb2c",
   "metadata": {
    "collapsed": false,
    "jupyter": {
     "outputs_hidden": false
    }
   },
   "outputs": [
    {
     "name": "stdout",
     "output_type": "stream",
     "text": [
      "root\n",
      " |-- text: string (nullable = true)\n",
      " |-- rating: string (nullable = true)\n",
      "\n",
      "+-------------------------------------+------+\n",
      "|                                 text|rating|\n",
      "+-------------------------------------+------+\n",
      "|   对不起，我实在是无法接受这个结局。|  null|\n",
      "|                                 ,bad|  null|\n",
      "|从哈一到哈七。。。水平依次下降。。...|  null|\n",
      "|                                 ,bad|  null|\n",
      "|   这套书根本就是在宣扬扭曲的价值观吧|  null|\n",
      "|                                 ,bad|  null|\n",
      "|翻译太烂。和上一本一样，还比不上网...|  null|\n",
      "|                                 ,bad|  null|\n",
      "|                               糟透了|  null|\n",
      "|                                 ,bad|  null|\n",
      "|                         什么破结局！|  null|\n",
      "|                                 ,bad|  null|\n",
      "|        2星指翻译！翻译得还不如网上的|  null|\n",
      "|                                 ,bad|  null|\n",
      "|                     我很后悔买了这书|  null|\n",
      "|                                 ,bad|  null|\n",
      "|书越来越厚，却没有第一次拿起的心情...|  null|\n",
      "|                                 ,bad|  null|\n",
      "|情节不连贯，罗琳依旧采用在最后几章...|  null|\n",
      "|                                 ,bad|  null|\n",
      "+-------------------------------------+------+\n",
      "only showing top 20 rows\n",
      "\n",
      "+--------------------------------+------+\n",
      "|                            text|rating|\n",
      "+--------------------------------+------+\n",
      "| 对不起 ， 我 实在 是 无法 接...|   bad|\n",
      "| 从哈一到 哈七 。 。 。 水平 ...|   bad|\n",
      "|这 套书 根本就是 在 宣扬 扭曲...|   bad|\n",
      "| 翻译 太烂 。 和 上 一本 一样...|   bad|\n",
      "|                       糟透了 \\n|   bad|\n",
      "|              什么 破 结局 ！ \\n|   bad|\n",
      "|   2 星指 翻译 ！ 翻译 得 还 ...|   bad|\n",
      "|        我 很 后悔 买 了 这书 \\n|   bad|\n",
      "| 书 越来越 厚 ， 却 没有 第一...|   bad|\n",
      "|情节 不连贯 ， 罗琳 依旧 采用...|   bad|\n",
      "|            吐 都 吐 不出 … … \\n|   bad|\n",
      "| 伤心 除了 斯内普 把 亲爱 的 ...|   bad|\n",
      "| 我 希望 哈五 六七 是 三部 同...|   bad|\n",
      "|   讨厌 这种 结尾 ... 那么 多...|   bad|\n",
      "|                      毕业 了 \\n|   bad|\n",
      "|  为 毛 让 教授 当 个 情圣 还...|   bad|\n",
      "| 罗琳 在 还是 无法 胜任 最后 ...|   bad|\n",
      "|                    少兒 讀物 \\n|   bad|\n",
      "| 这个 和 之前 的 完全 没法 比...|   bad|\n",
      "|           狗血 剧情 。 。 。 \\n|   bad|\n",
      "+--------------------------------+------+\n",
      "only showing top 20 rows\n",
      "\n"
     ]
    }
   ],
   "source": [
    "try:\n",
    "    df = spark.read.csv('./text/text.csv', header = True, inferSchema = True)\n",
    "except 'FileNotFoundError':\n",
    "    # location on server\n",
    "    df = spark.read.csv('file:///home1/cufe/students/wuyuchong/text.csv', header = True, inferSchema = True)\n",
    "df.printSchema()\n",
    "df.show()\n",
    "\n",
    "pandasDF = pd.read_csv('./text/text.csv')\n",
    "pandasDF = pandasDF.query('rating != \"medium\"')\n",
    "pandasDF['text'] = pandasDF.text.apply(lambda x: \" \".join(jieba.cut(x)))\n",
    "pandasDF.isnull().sum() # 缺失值检查\n",
    "df = spark.createDataFrame(pandasDF)\n",
    "df.show()"
   ]
  },
  {
   "cell_type": "markdown",
   "id": "257d716e",
   "metadata": {},
   "source": [
    "## 文本清洁"
   ]
  },
  {
   "cell_type": "code",
   "execution_count": 20,
   "id": "0ce8810b",
   "metadata": {
    "collapsed": false,
    "jupyter": {
     "outputs_hidden": false
    }
   },
   "outputs": [],
   "source": [
    "cleaning = True\n",
    "if cleaning == False:\n",
    "    df = df.withColumn(\"clean_text\", df.text)\n",
    "else:\n",
    "    try:\n",
    "        # 在服务器上的分布式模式中，需要使用 --py-files 将 gensim 包传到每个子节点\n",
    "        # 若该过程失败则跳过文本清洁过程\n",
    "        import gensim.parsing.preprocessing as gsp\n",
    "        from gensim import utils\n",
    "        filters = [\n",
    "            gsp.strip_tags,\n",
    "            gsp.strip_punctuation,\n",
    "            gsp.strip_multiple_whitespaces,\n",
    "            gsp.strip_numeric,\n",
    "            gsp.remove_stopwords,\n",
    "            gsp.strip_short,\n",
    "            gsp.stem_text\n",
    "        ]\n",
    "        def clean_text(x):\n",
    "            x = x.lower()\n",
    "            x = utils.to_unicode(x)\n",
    "            for f in filters:\n",
    "                x = f(x)\n",
    "            return x\n",
    "\n",
    "        cleanTextUDF = udf(lambda x: clean_text(x), StringType())\n",
    "        df = df.withColumn(\"clean_text\", cleanTextUDF(col(\"text\")))\n",
    "    except:\n",
    "        df = df.withColumn(\"clean_text\", df.text)"
   ]
  },
  {
   "cell_type": "code",
   "execution_count": 21,
   "id": "a35d8612",
   "metadata": {
    "collapsed": false,
    "jupyter": {
     "outputs_hidden": false
    }
   },
   "outputs": [
    {
     "name": "stdout",
     "output_type": "stream",
     "text": [
      "+--------------------------------+------+---------------+-----+\n",
      "|                            text|rating|     clean_text|label|\n",
      "+--------------------------------+------+---------------+-----+\n",
      "| 对不起 ， 我 实在 是 无法 接...|   bad|         对不起|  1.0|\n",
      "| 从哈一到 哈七 。 。 。 水平 ...|   bad|从哈一到 免不了|  1.0|\n",
      "|这 套书 根本就是 在 宣扬 扭曲...|   bad|根本就是 价值观|  1.0|\n",
      "| 翻译 太烂 。 和 上 一本 一样...|   bad|         比不上|  1.0|\n",
      "|                       糟透了 \\n|   bad|         糟透了|  1.0|\n",
      "+--------------------------------+------+---------------+-----+\n",
      "only showing top 5 rows\n",
      "\n"
     ]
    }
   ],
   "source": [
    "# ----------------------------> 标签数字转换\n",
    "labelEncoder = StringIndexer(inputCol='rating', outputCol='label').fit(df)\n",
    "labelEncoder.transform(df).show(5)\n",
    "df = labelEncoder.transform(df)\n",
    "# ----------------------------------------------------------------------"
   ]
  },
  {
   "cell_type": "markdown",
   "id": "f81f6b61",
   "metadata": {},
   "source": [
    "## 数据集划分\n",
    "\n",
    "划分 70% 的训练集和 30% 的测试集。"
   ]
  },
  {
   "cell_type": "code",
   "execution_count": 22,
   "id": "222f2ac3",
   "metadata": {
    "collapsed": false,
    "jupyter": {
     "outputs_hidden": false
    }
   },
   "outputs": [],
   "source": [
    "(trainDF,testDF) = df.randomSplit((0.7,0.3), seed=1)"
   ]
  },
  {
   "cell_type": "markdown",
   "id": "aa666914",
   "metadata": {},
   "source": [
    "## 文本特征工程"
   ]
  },
  {
   "cell_type": "code",
   "execution_count": 23,
   "id": "7ec1e204",
   "metadata": {
    "collapsed": false,
    "jupyter": {
     "outputs_hidden": false
    }
   },
   "outputs": [
    {
     "name": "stderr",
     "output_type": "stream",
     "text": [
      "                                                                                \r"
     ]
    },
    {
     "name": "stdout",
     "output_type": "stream",
     "text": [
      "+-------------------------------+------+-----------------------------+-----+------------------------------+------------------------------+--------------------+--------------------+\n",
      "|                           text|rating|                   clean_text|label|                        tokens|               filtered_tokens|         rawFeatures|  vectorizedFeatures|\n",
      "+-------------------------------+------+-----------------------------+-----+------------------------------+------------------------------+--------------------+--------------------+\n",
      "|  2 星半 ， 主角 怎么 打 都 ...|   bad|看不出 段时间 不可开交 不合理|  1.0|[看不出, 段时间, 不可开交, ...|[看不出, 段时间, 不可开交, ...|(358,[136,178,218...|(358,[136,178,218...|\n",
      "|  2 星指 翻译 ！ 翻译 得 还 ...|   bad|                             |  1.0|                            []|                            []|     (358,[0],[1.0])|(358,[0],[0.74541...|\n",
      "|            KJ 让 我 失望 了 \\n|   bad|                             |  1.0|                            []|                            []|     (358,[0],[1.0])|(358,[0],[0.74541...|\n",
      "|                         err \\n|   bad|                          err|  1.0|                         [err]|                         [err]|   (358,[184],[1.0])|(358,[184],[5.375...|\n",
      "| 不 喜欢 吟游 诗人 的 传说 ~...|   bad|                     江郎才尽|  1.0|                    [江郎才尽]|                    [江郎才尽]|   (358,[331],[1.0])|(358,[331],[5.375...|\n",
      "|     不 喜欢 结尾 ， 略 仓促 \\n|   bad|                             |  1.0|                            []|                            []|     (358,[0],[1.0])|(358,[0],[0.74541...|\n",
      "| 不是 她 退步 了 ， 只是 我 ...|   bad|                             |  1.0|                            []|                            []|     (358,[0],[1.0])|(358,[0],[0.74541...|\n",
      "| 为 毛 让 教授 当 个 情圣 还...|   bad|                         tnnd|  1.0|                        [tnnd]|                        [tnnd]|   (358,[238],[1.0])|(358,[238],[5.375...|\n",
      "|主线 和 传说 中 一样 紧凑 ，...|   bad|                     不知所措|  1.0|                    [不知所措]|                    [不知所措]|   (358,[263],[1.0])|(358,[263],[5.375...|\n",
      "|书 越来越 厚 ， 却 没有 第一...|   bad|越来越 第一次 不怎么 有始有终|  1.0|[越来越, 第一次, 不怎么, 有...|[越来越, 第一次, 不怎么, 有...|(358,[11,23,37,30...|(358,[11,23,37,30...|\n",
      "|             什么 破 结局 ！ \\n|   bad|                             |  1.0|                            []|                            []|     (358,[0],[1.0])|(358,[0],[0.74541...|\n",
      "|                  傻 逼 翻译 \\n|   bad|                             |  1.0|                            []|                            []|     (358,[0],[1.0])|(358,[0],[0.74541...|\n",
      "|其实 结尾 真的 没有 期待 中 ...|   bad|                             |  1.0|                            []|                            []|     (358,[0],[1.0])|(358,[0],[0.74541...|\n",
      "|                 凸 = \" = 凸 \\n|   bad|                             |  1.0|                            []|                            []|     (358,[0],[1.0])|(358,[0],[0.74541...|\n",
      "|   初中 看 的     现在 没 感...|   bad|                             |  1.0|                            []|                            []|     (358,[0],[1.0])|(358,[0],[0.74541...|\n",
      "|   剧透 看 了 太 多 ... 完全...|   bad|                             |  1.0|                            []|                            []|     (358,[0],[1.0])|(358,[0],[0.74541...|\n",
      "| 即使 再 情怀 ， 我 不能 对 ...|   bad|                       哈赫党|  1.0|                      [哈赫党]|                      [哈赫党]|   (358,[337],[1.0])|(358,[337],[5.375...|\n",
      "|                   压缩 面包 \\n|   bad|                             |  1.0|                            []|                            []|     (358,[0],[1.0])|(358,[0],[0.74541...|\n",
      "|           吐 都 吐 不出 … … \\n|   bad|                             |  1.0|                            []|                            []|     (358,[0],[1.0])|(358,[0],[0.74541...|\n",
      "| 咬牙 看 完 的 ， 为的是 看 ...|   bad|                       为的是|  1.0|                      [为的是]|                      [为的是]|   (358,[272],[1.0])|(358,[272],[5.375...|\n",
      "+-------------------------------+------+-----------------------------+-----+------------------------------+------------------------------+--------------------+--------------------+\n",
      "only showing top 20 rows\n",
      "\n"
     ]
    }
   ],
   "source": [
    "# ----------------------------> 特征工程方法选项\n",
    "#  processType = 'word2vec'\n",
    "processType = 'vectorize-idf'\n",
    "#  processType = 'tf-idf'\n",
    "\n",
    "# ----------------------------> 文本特征工程\n",
    "tokenizer = Tokenizer(inputCol='clean_text', outputCol='tokens')\n",
    "add_stopwords = [\"<br />\",\"amp\"]\n",
    "stopwords_remover = StopWordsRemover(inputCol='tokens', outputCol='filtered_tokens').setStopWords(add_stopwords)\n",
    "vectorizer = CountVectorizer(inputCol='filtered_tokens', outputCol='rawFeatures')\n",
    "hashingTF = HashingTF(inputCol=\"filtered_tokens\", outputCol=\"rawFeatures\")\n",
    "idf = IDF(inputCol='rawFeatures', outputCol='vectorizedFeatures')\n",
    "word2Vec = Word2Vec(vectorSize=50, minCount=2, inputCol=\"filtered_tokens\", outputCol=\"vectorizedFeatures\")\n",
    "if processType == 'word2vec':\n",
    "    pipeline = Pipeline(stages=[tokenizer,stopwords_remover,word2Vec])\n",
    "if processType == 'vectorize-idf':\n",
    "    pipeline = Pipeline(stages=[tokenizer,stopwords_remover,vectorizer,idf])\n",
    "if processType == 'tf-idf':\n",
    "    pipeline = Pipeline(stages=[tokenizer,stopwords_remover,hashingTF,idf])\n",
    "preprocessModel = pipeline.fit(trainDF)\n",
    "trainDF = preprocessModel.transform(trainDF)\n",
    "testDF = preprocessModel.transform(testDF)\n",
    "trainDF.show()"
   ]
  },
  {
   "cell_type": "markdown",
   "id": "23423d98",
   "metadata": {},
   "source": [
    "## 训练模型\n",
    "\n",
    "我们首先使用简单的 logistic 模型进行拟合，在训练集上进行拟合，之后在测试集上验证模型的效果。"
   ]
  },
  {
   "cell_type": "code",
   "execution_count": 73,
   "id": "4c57aebe",
   "metadata": {
    "collapsed": false,
    "jupyter": {
     "outputs_hidden": false
    }
   },
   "outputs": [
    {
     "name": "stdout",
     "output_type": "stream",
     "text": [
      "+-----+----------+\n",
      "|label|prediction|\n",
      "+-----+----------+\n",
      "|  1.0|       0.0|\n",
      "|  1.0|       0.0|\n",
      "|  1.0|       0.0|\n",
      "|  1.0|       0.0|\n",
      "|  1.0|       0.0|\n",
      "|  1.0|       0.0|\n",
      "|  1.0|       0.0|\n",
      "|  1.0|       0.0|\n",
      "|  1.0|       0.0|\n",
      "|  1.0|       0.0|\n",
      "|  1.0|       0.0|\n",
      "|  1.0|       0.0|\n",
      "|  1.0|       0.0|\n",
      "|  1.0|       0.0|\n",
      "|  1.0|       0.0|\n",
      "|  1.0|       1.0|\n",
      "|  1.0|       0.0|\n",
      "|  1.0|       0.0|\n",
      "|  1.0|       0.0|\n",
      "|  1.0|       0.0|\n",
      "+-----+----------+\n",
      "only showing top 20 rows\n",
      "\n",
      "0.8480392156862745\n"
     ]
    }
   ],
   "source": [
    "lr = LogisticRegression(featuresCol='vectorizedFeatures',labelCol='label')\n",
    "lr_model = lr.fit(trainDF)\n",
    "prediction = lr_model.transform(testDF)\n",
    "prediction.select(['label', 'prediction']).show()\n",
    "evaluator = MulticlassClassificationEvaluator(labelCol='label',predictionCol='prediction',metricName='accuracy')\n",
    "accuracy = evaluator.evaluate(prediction)\n",
    "print(accuracy)"
   ]
  },
  {
   "cell_type": "markdown",
   "id": "6495aa55",
   "metadata": {},
   "source": [
    "## 模型预测"
   ]
  },
  {
   "cell_type": "markdown",
   "id": "31e9274f",
   "metadata": {},
   "source": [
    "我们准备了两个测试用例来验证模型是否有效。\n",
    "\n",
    "1. 我喜欢这部电影\n",
    "2. 它很差劲\n",
    "\n",
    "模型对前一个句子的分类结果为积极，对一个句子的分类结果为消极。"
   ]
  },
  {
   "cell_type": "code",
   "execution_count": 74,
   "id": "6a31be09",
   "metadata": {
    "collapsed": false,
    "jupyter": {
     "outputs_hidden": false
    }
   },
   "outputs": [
    {
     "name": "stdout",
     "output_type": "stream",
     "text": [
      "+-----------------+---+\n",
      "|clean_text       |_2 |\n",
      "+-----------------+---+\n",
      "|I like this movie|{} |\n",
      "|It is so bad     |{} |\n",
      "+-----------------+---+\n",
      "\n",
      "+-----------------+---+--------------------+--------------------+----------------+--------------------+--------------------+--------------------+----------+\n",
      "|       clean_text| _2|              tokens|     filtered_tokens|     rawFeatures|  vectorizedFeatures|       rawPrediction|         probability|prediction|\n",
      "+-----------------+---+--------------------+--------------------+----------------+--------------------+--------------------+--------------------+----------+\n",
      "|I like this movie| {}|[i, like, this, m...|[i, like, this, m...|(340,[13],[1.0])|(340,[13],[4.9698...|[9.40616302147071...|[0.99991779095569...|       0.0|\n",
      "|     It is so bad| {}|   [it, is, so, bad]|   [it, is, so, bad]|     (340,[],[])|         (340,[],[])|[8.77748902884587...|[0.99984585906036...|       0.0|\n",
      "+-----------------+---+--------------------+--------------------+----------------+--------------------+--------------------+--------------------+----------+\n",
      "\n",
      "+-----------------+----------+\n",
      "|       clean_text|prediction|\n",
      "+-----------------+----------+\n",
      "|I like this movie|       0.0|\n",
      "|     It is so bad|       0.0|\n",
      "+-----------------+----------+\n",
      "\n"
     ]
    }
   ],
   "source": [
    "inputText = spark.createDataFrame([(\"I like this movie\",StringType()),\n",
    "                                   (\"It is so bad\",StringType())],\n",
    "                                  [\"clean_text\"])\n",
    "inputText.show(truncate=False)\n",
    "inputText = preprocessModel.transform(inputText)\n",
    "inputPrediction = lr_model.transform(inputText)\n",
    "inputPrediction.show()\n",
    "inputPrediction.select(['clean_text', 'prediction']).show()"
   ]
  },
  {
   "cell_type": "markdown",
   "id": "01bc4fd2",
   "metadata": {},
   "source": [
    "## 模型比较\n",
    "\n",
    "在 logistic 模型的基础上，我们还搭建了随机森林模型、梯度助推树模型、决策树模型。\n",
    "\n",
    "> 此处对计算性能要求较高，请提交至集群进行计算"
   ]
  },
  {
   "cell_type": "raw",
   "id": "a8ec10df",
   "metadata": {},
   "source": [
    "def logisticCV(trainDF, testDF):\n",
    "    lr = LogisticRegression(featuresCol='vectorizedFeatures',labelCol='label')\n",
    "    model = lr.fit(trainDF)\n",
    "    prediction = model.transform(testDF)\n",
    "    evaluator = MulticlassClassificationEvaluator(labelCol='label',predictionCol='prediction',metricName='accuracy')\n",
    "    accuracy = evaluator.evaluate(prediction)\n",
    "    print('Accuracy of logistic regression: %g' % accuracy)\n",
    "\n",
    "def RandomForest(trainDF, testDF):\n",
    "    rf = RandomForestClassifier(featuresCol='vectorizedFeatures',labelCol='label')\n",
    "    model = rf.fit(trainDF)\n",
    "    prdiction = model.transform(testDF)\n",
    "    evaluator = MulticlassClassificationEvaluator(labelCol='label',predictionCol='prediction',metricName='accuracy')\n",
    "    accuracy = evaluator.evaluate(prediction)\n",
    "    print('Accuracy of random forest: %g' % accuracy)\n",
    "\n",
    "def GBT(trainDF, testDF):\n",
    "    gbt = GBTClassifier(featuresCol='vectorizedFeatures',labelCol='label')\n",
    "    model = gbt.fit(trainDF)\n",
    "    prdiction = model.transform(testDF)\n",
    "    evaluator = MulticlassClassificationEvaluator(labelCol='label',predictionCol='prediction',metricName='accuracy')\n",
    "    accuracy = evaluator.evaluate(prediction)\n",
    "    print('Accuracy of gbt: %g' % accuracy)\n",
    "\n",
    "def DecisionTree(trainDF, testDF):\n",
    "    dt = DecisionTreeClassifier(featuresCol='vectorizedFeatures',labelCol='label')\n",
    "    model = dt.fit(trainDF)\n",
    "    prdiction = model.transform(testDF)\n",
    "    evaluator = MulticlassClassificationEvaluator(labelCol='label',predictionCol='prediction',metricName='accuracy')\n",
    "    accuracy = evaluator.evaluate(prediction)\n",
    "    print('Accuracy of decision tree: %g' % accuracy)\n",
    "\n",
    "logisticCV(trainDF, testDF)\n",
    "RandomForest(trainDF, testDF)\n",
    "GBT(trainDF, testDF)\n",
    "DecisionTree(trainDF, testDF)"
   ]
  },
  {
   "cell_type": "markdown",
   "id": "248c35f8",
   "metadata": {},
   "source": [
    "## 模型调参\n",
    "\n",
    "我们使用网格搜索的方式对几个模型的超参数进行调整，选取最优的模型"
   ]
  },
  {
   "cell_type": "raw",
   "id": "d42a7de2",
   "metadata": {},
   "source": [
    "def logisticCV(trainDF, testDF):\n",
    "    lr = LogisticRegression(featuresCol='vectorizedFeatures',labelCol='label')\n",
    "    pipeline = Pipeline(stages=[lr])\n",
    "    paramGrid = ParamGridBuilder() \\\n",
    "        .addGrid(lr.regParam, [0, 0.5, 2.0]) \\\n",
    "        .addGrid(lr.elasticNetParam, [0.0, 0.5, 1.0]) \\\n",
    "        .addGrid(lr.maxIter, [50, 100, 200]) \\\n",
    "        .build() \n",
    "    evaluator = MulticlassClassificationEvaluator(labelCol='label',predictionCol='prediction',metricName='accuracy')\n",
    "    crossValidator = CrossValidator(estimator=pipeline, \n",
    "                                    evaluator=evaluator,\n",
    "                                    estimatorParamMaps=paramGrid,\n",
    "                                    numFolds=5)\n",
    "    cv = crossValidator.fit(trainDF)\n",
    "    best_model = cv.bestModel.stages[0]\n",
    "    prediction = best_model.transform(testDF)\n",
    "    accuracy = evaluator.evaluate(prediction)\n",
    "    print('Accuracy in Cross Validation of logistic regression: %g' % accuracy)\n",
    "\n",
    "def RandomForestCV(trainDF, testDF):\n",
    "    rf = RandomForestClassifier(featuresCol='vectorizedFeatures',labelCol='label')\n",
    "    pipeline = Pipeline(stages=[rf])\n",
    "    paramGrid = ParamGridBuilder() \\\n",
    "        .addGrid(rf.maxDepth, [5, 10]) \\\n",
    "        .addGrid(rf.maxBins, [16, 32]) \\\n",
    "        .addGrid(rf.minInfoGain, [0, 0.01]) \\\n",
    "        .addGrid(rf.numTrees, [20, 60]) \\\n",
    "        .addGrid(rf.impurity, ['gini', 'entropy']) \\\n",
    "        .build() \n",
    "    evaluator = MulticlassClassificationEvaluator(labelCol='label',predictionCol='prediction',metricName='accuracy')\n",
    "    crossValidator = CrossValidator(estimator=pipeline, \n",
    "                                    evaluator=evaluator,\n",
    "                                    estimatorParamMaps=paramGrid,\n",
    "                                    numFolds=5)\n",
    "    cv = crossValidator.fit(trainDF)\n",
    "    best_model = cv.bestModel.stages[0]\n",
    "    prediction = best_model.transform(testDF)\n",
    "    accuracy = evaluator.evaluate(prediction)\n",
    "    print('Accuracy in Cross Validation of random forest: %g' % accuracy)\n",
    "\n",
    "def GBTClassifierCV(trainDF, testDF):\n",
    "    gbt = GBTClassifier(featuresCol='vectorizedFeatures',labelCol='label')\n",
    "    pipeline = Pipeline(stages=[gbt])\n",
    "    paramGrid = ParamGridBuilder() \\\n",
    "        .addGrid(gbt.maxDepth, [5, 10]) \\\n",
    "        .addGrid(gbt.maxBins, [16, 32]) \\\n",
    "        .addGrid(gbt.minInfoGain, [0, 0.01]) \\\n",
    "        .addGrid(gbt.maxIter, [10, 20]) \\\n",
    "        .addGrid(gbt.stepSize, [0.1, 0.2]) \\\n",
    "        .build() \n",
    "    evaluator = MulticlassClassificationEvaluator(labelCol='label',predictionCol='prediction',metricName='accuracy')\n",
    "    crossValidator = CrossValidator(estimator=pipeline, \n",
    "                                    evaluator=evaluator,\n",
    "                                    estimatorParamMaps=paramGrid,\n",
    "                                    numFolds=5)\n",
    "    cv = crossValidator.fit(trainDF)\n",
    "    best_model = cv.bestModel.stages[0]\n",
    "    prediction = best_model.transform(testDF)\n",
    "    accuracy = evaluator.evaluate(prediction)\n",
    "    print('Accuracy in Cross Validation of GBT: %g' % accuracy)\n",
    "\n",
    "def DecisionTreeCV(trainDF, testDF):\n",
    "    dt = DecisionTreeClassifier(featuresCol='vectorizedFeatures',labelCol='label')\n",
    "    pipeline = Pipeline(stages=[dt])\n",
    "    paramGrid = ParamGridBuilder() \\\n",
    "        .addGrid(dt.maxDepth, [5, 10]) \\\n",
    "        .addGrid(dt.maxBins, [16, 32]) \\\n",
    "        .addGrid(dt.minInfoGain, [0, 0.01]) \\\n",
    "        .addGrid(dt.minWeightFractionPerNode, [0, 0.5]) \\\n",
    "        .addGrid(dt.impurity, ['gini', 'entropy']) \\\n",
    "        .build() \n",
    "    evaluator = MulticlassClassificationEvaluator(labelCol='label',predictionCol='prediction',metricName='accuracy')\n",
    "    crossValidator = CrossValidator(estimator=pipeline, \n",
    "                                    evaluator=evaluator,\n",
    "                                    estimatorParamMaps=paramGrid,\n",
    "                                    numFolds=5)\n",
    "    cv = crossValidator.fit(trainDF)\n",
    "    best_model = cv.bestModel.stages[0]\n",
    "    prediction = best_model.transform(testDF)\n",
    "    accuracy = evaluator.evaluate(prediction)\n",
    "    print('Accuracy in Cross Validation of GBT: %g' % accuracy)\n",
    "\n",
    "logisticCV(trainDF, testDF)\n",
    "RandomForestCV(trainDF, testDF)\n",
    "GBTClassifierCV(trainDF, testDF)\n",
    "DecisionTreeCV(trainDF, testDF)"
   ]
  },
  {
   "cell_type": "markdown",
   "id": "ec3cf2a9",
   "metadata": {},
   "source": [
    "# 参考文献\n",
    "\n",
    "- [Decoupled Weight Decay Regularization](https://arxiv.org/abs/1711.05101)\n",
    "- [BBERT: Pre-training of Deep Bidirectional Transformers for Language UnderstandingERT](https://arxiv.org/abs/1810.04805)"
   ]
  }
 ],
 "metadata": {
  "colab": {
   "collapsed_sections": [],
   "name": "classify_text_with_bert.ipynb",
   "provenance": [],
   "toc_visible": true
  },
  "kernelspec": {
   "display_name": "Python 3 (ipykernel)",
   "language": "python",
   "name": "python3"
  },
  "language_info": {
   "codemirror_mode": {
    "name": "ipython",
    "version": 3
   },
   "file_extension": ".py",
   "mimetype": "text/x-python",
   "name": "python",
   "nbconvert_exporter": "python",
   "pygments_lexer": "ipython3",
   "version": "3.9.7"
  },
  "toc-autonumbering": true,
  "toc-showcode": false,
  "toc-showmarkdowntxt": false,
  "toc-showtags": false
 },
 "nbformat": 4,
 "nbformat_minor": 5
}
